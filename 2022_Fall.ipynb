{
  "cells": [
    {
      "cell_type": "markdown",
      "metadata": {
        "id": "d98O4vjubJ3j"
      },
      "source": [
        "<div align=center>\n",
        "\t\t\n",
        "<p></p>\n",
        "<p></p>\n",
        "<font size=5>\n",
        "In the Name of God\n",
        "<font/>\n",
        "<p></p>\n",
        " <br/>\n",
        "    <br/>\n",
        "    <br/>\n",
        "<font color=#FF7500>\n",
        "Sharif University of Technology - Departmenet of Computer Engineering\n",
        "</font>\n",
        "<p></p>\n",
        "<font color=blue>\n",
        "Artifical Intelligence - Dr. Mohammad Hossein Rohban\n",
        "</font>\n",
        "<br/>\n",
        "<br/>\n",
        "Fall 2021\n",
        "\n",
        "</div>\n",
        "\n",
        "<hr/>\n",
        "\t\t<div align=center>\n",
        "\t\t    <font color=red size=6>\n",
        "\t\t\t    <br />\n",
        "Practical Assignment 4\n",
        "            \t<br/>\n",
        "\t\t\t</font>\n",
        "    <br/>\n",
        "    <br/>\n",
        "<font size=4>\n",
        "\t\t\t<br/><br/>\n",
        "Deadline:  \n",
        "                <br/><b>\n",
        "              Cheating is Strongly Prohibited\n",
        "                </b><br/><br/>\n",
        "                <font color=red>\n",
        "Please run all the cells.\n",
        "     </font>\n",
        "</font>\n",
        "                <br/>\n",
        "    </div>"
      ]
    },
    {
      "cell_type": "markdown",
      "metadata": {
        "id": "Vc56RQq_bJ3p"
      },
      "source": [
        "# Personal Data"
      ]
    },
    {
      "cell_type": "code",
      "execution_count": null,
      "metadata": {
        "collectable": true,
        "execution": {
          "iopub.execute_input": "2021-10-01T16:01:36.762477Z",
          "iopub.status.busy": "2021-10-01T16:01:36.762155Z",
          "iopub.status.idle": "2021-10-01T16:01:36.764025Z",
          "shell.execute_reply": "2021-10-01T16:01:36.763754Z"
        },
        "id": "tODT3Ai9bJ3q"
      },
      "outputs": [],
      "source": [
        "# Set your student number\n",
        "student_number = 98000000\n",
        "Name = ''\n",
        "Last_Name = ''"
      ]
    },
    {
      "cell_type": "markdown",
      "metadata": {
        "id": "j36cYwxIbJ3r"
      },
      "source": [
        "# Rules\n",
        "- You are not allowed to add or remove cells. You **must use the provided space to write your code**. If you don't follow this rule, **your Practical Assignment won't be graded**. \n",
        "- There is one cell for your custom functions (if you need any) at the beginning of each question. Please note that this jupyter file might be broken down into 3 or 4 jupyter notebooks for easier grading, so you **must write your custom functions in the correct cell**.\n",
        "- By running the cell below, you can see if your jupyter file is accepted or not. This cell will also **generate a python file which you'll have to upload to Quera** (as well as your jupyter file). The python file will later be validated and if the code in both files doesn't match, **your Practical Assignment won't be graded**.\n",
        "- This assignment is due Aban 8th 23:59:59. you can use up to 7 grace days for this assignment and the hard deadline is Aban 15th 23:59:59."
      ]
    },
    {
      "cell_type": "code",
      "execution_count": null,
      "metadata": {
        "id": "MxF-SCt7bJ3s"
      },
      "outputs": [],
      "source": [
        "# remember to save your jupyter file before running this script\n",
        "from Helper_codes.validator import *\n",
        "\n",
        "python_code = extract_python(\"./questions.ipynb\")\n",
        "with open(f'python_code_{student_number}.py', 'w') as file:\n",
        "    file.write(python_code)"
      ]
    },
    {
      "cell_type": "markdown",
      "metadata": {
        "id": "Fa1McbDhbJ3s"
      },
      "source": [
        "# PyTorch & MNIST Classification (50 points + 5 Extra)"
      ]
    },
    {
      "cell_type": "markdown",
      "metadata": {
        "id": "sSeuI5X2bJ3t"
      },
      "source": [
        "<font size=4>\n",
        "Author: Arman Zarei\n",
        "\t\t\t<br/>\n",
        "                <font color=red>\n",
        "Please run all the cells.\n",
        "     </font>\n",
        "</font>\n",
        "                <br/>\n",
        "    </div>"
      ]
    },
    {
      "cell_type": "markdown",
      "metadata": {
        "id": "hpgcA5aVbhvr"
      },
      "source": [
        "In this assignment, you are going to learn the fundamentals of PyTorch and implement a classifier network for MNIST dataset. You can read about more details of PyTorch components from [this link](https://pytorch.org/tutorials)."
      ]
    },
    {
      "cell_type": "markdown",
      "metadata": {
        "id": "eWerEtmwcjDW"
      },
      "source": [
        "### Setup"
      ]
    },
    {
      "cell_type": "code",
      "execution_count": null,
      "metadata": {
        "id": "WB1qWR7ycyhk"
      },
      "outputs": [],
      "source": [
        "import torch\n",
        "from torchvision import datasets\n",
        "import matplotlib.pyplot as plt\n",
        "import torchvision.transforms as transforms\n",
        "import os\n",
        "from torch.utils.data import Dataset, DataLoader, random_split\n",
        "import torch.nn as nn\n",
        "import torch.nn.functional as F\n",
        "from ae_helper import init_mnist_subset_directories"
      ]
    },
    {
      "cell_type": "code",
      "execution_count": null,
      "metadata": {
        "colab": {
          "base_uri": "https://localhost:8080/"
        },
        "id": "Xl50MioBdFpk",
        "outputId": "87763a85-aac4-403a-f967-e469313c94b9"
      },
      "outputs": [
        {
          "data": {
            "text/plain": [
              "device(type='cuda')"
            ]
          },
          "execution_count": 2,
          "metadata": {},
          "output_type": "execute_result"
        }
      ],
      "source": [
        "device = torch.device('cuda' if torch.cuda.is_available() else 'cpu')\n",
        "device"
      ]
    },
    {
      "cell_type": "markdown",
      "metadata": {
        "id": "wx59hwkqj0RD"
      },
      "source": [
        "#### Loading dataset"
      ]
    },
    {
      "cell_type": "code",
      "execution_count": null,
      "metadata": {
        "id": "YDdS3sikj1xB"
      },
      "outputs": [],
      "source": [
        "mnist_dataset = datasets.MNIST(root='data', train=True, download=True, transform=transforms.ToTensor())"
      ]
    },
    {
      "cell_type": "markdown",
      "metadata": {
        "id": "USPO44OldQSB"
      },
      "source": [
        "## Autograd"
      ]
    },
    {
      "cell_type": "markdown",
      "metadata": {
        "id": "UZ3MTvqldpmz"
      },
      "source": [
        "Autograd is PyTorch's automatic differentiation engine that powers neural network training. In essence it helps us to calculate derivatives and updating parameters. To read more about Autograd and Computational Graph visit [this link](https://pytorch.org/tutorials/beginner/blitz/autograd_tutorial.html)\n",
        "\n",
        "Let us define two parameters: $p_1$ and $p_2$. "
      ]
    },
    {
      "cell_type": "code",
      "execution_count": null,
      "metadata": {
        "id": "fyMHSBA7eg1P"
      },
      "outputs": [],
      "source": [
        "p1 = torch.tensor([3.], requires_grad=True)\n",
        "p2 = torch.tensor([7.], requires_grad=True)"
      ]
    },
    {
      "cell_type": "markdown",
      "metadata": {
        "id": "3clMbGmyesLk"
      },
      "source": [
        "Now define a variable $L$ as below:\n",
        "\n",
        "$L = 3 \\times p_1^3 - 7 \\times p_2^2 + sin(p1) \\times p_2^2$"
      ]
    },
    {
      "cell_type": "code",
      "execution_count": null,
      "metadata": {
        "collectable": true,
        "id": "Q6Rf3tc5bJ3u"
      },
      "outputs": [],
      "source": [
        "# Place your code here (2.5 Points)\n",
        "## Hint: You can use torch.sin for calculation of sin(p1)\n",
        "L = 3 * p1**3 - 7 * p2**2 + torch.sin(p1) * p2**2"
      ]
    },
    {
      "cell_type": "markdown",
      "metadata": {
        "id": "yVEaM66zfI_r"
      },
      "source": [
        "Now you have to calculate the gradient of $p_1$ and $p_2$ with respect to $L$. First do it by hand and write the mathematical expression in the below cell both for $p_1$ and $p_2$. Then evaluate them at $3$ and $7$ (acording to the initialization)"
      ]
    },
    {
      "cell_type": "markdown",
      "metadata": {
        "id": "6AK61RzngBya"
      },
      "source": [
        "(2.5% Points)\n",
        "\n",
        "$\\frac{dL}{dp_1} = 9 \\times p_1^2 + cos(p1) \\times p_2^2$\n",
        "\n",
        "$\\frac{dL}{dp_2} = 14 \\times p_2 + 2 \\times sin(p1) \\times p_2$\n",
        "\n",
        "$\\frac{dL}{dp_1}(3, 7) = 32.49$\n",
        "\n",
        "$\\frac{dL}{dp_2}(3, 7) = -96.02$"
      ]
    },
    {
      "cell_type": "code",
      "execution_count": null,
      "metadata": {
        "colab": {
          "base_uri": "https://localhost:8080/"
        },
        "id": "H8J9pEWYhQ7-",
        "outputId": "39e29311-1c36-40ab-e437-49bcc6e07819"
      },
      "outputs": [
        {
          "name": "stdout",
          "output_type": "stream",
          "text": [
            "32.4903678894043\n",
            "-96.02432250976562\n"
          ]
        }
      ],
      "source": [
        "# Place your code here (optional)\n",
        "## For calculation of dL/dp in the given point\n",
        "print((9*p1**2 + torch.cos(p1)*p2**2).item())\n",
        "print((-14*p2 + 2*torch.sin(p1)*p2).item())"
      ]
    },
    {
      "cell_type": "markdown",
      "metadata": {
        "id": "vfnbUWe9jDN_"
      },
      "source": [
        "Now let's calculate this using pytorch. The below code will construct the computational graph and stores the gradient of each variable inside of it."
      ]
    },
    {
      "cell_type": "code",
      "execution_count": null,
      "metadata": {
        "id": "JHOUb91BfSLV"
      },
      "outputs": [],
      "source": [
        "L.backward()"
      ]
    },
    {
      "cell_type": "markdown",
      "metadata": {
        "id": "DPlm6Y-WjdqQ"
      },
      "source": [
        "Check whether the result of your calculations is the same with the autograd's output."
      ]
    },
    {
      "cell_type": "code",
      "execution_count": null,
      "metadata": {
        "colab": {
          "base_uri": "https://localhost:8080/"
        },
        "id": "dTATg0EXfemL",
        "outputId": "f3a3c390-c2d5-4a7a-b3fa-02fea37625f9"
      },
      "outputs": [
        {
          "name": "stdout",
          "output_type": "stream",
          "text": [
            "P_1 grad: 32.4903678894043\n",
            "P_2 grad: -96.02432250976562\n"
          ]
        }
      ],
      "source": [
        "print(f\"P_1 grad: {p1.grad.item()}\\nP_2 grad: {p2.grad.item()}\")"
      ]
    },
    {
      "cell_type": "markdown",
      "metadata": {
        "id": "bnNZl6e6jpqt"
      },
      "source": [
        "## Transform "
      ]
    },
    {
      "cell_type": "markdown",
      "metadata": {
        "id": "LU7tlE9JkdPq"
      },
      "source": [
        "Data does not always come in its final processed form that is required for training machine learning algorithms. We use transforms to perform some manipulation of the data and make it suitable for training. For more details, you can read [this link](https://pytorch.org/vision/stable/transforms.html)\n",
        "\n",
        "There are many transformations that are already implemented inside pytorch that you can use. Here we are going to implement some transformation from scratch using PyTorch's framework."
      ]
    },
    {
      "cell_type": "markdown",
      "metadata": {
        "id": "axRueoKYkrq2"
      },
      "source": [
        "#### Random Horizontal Flip Transformation"
      ]
    },
    {
      "cell_type": "markdown",
      "metadata": {
        "id": "VWJaLIkgl6im"
      },
      "source": [
        "Define a transformation that flips the image (horizontally) with probability of $p$. In order to implement a simple transformation class, you need to have two methods: `__init__` and `__call__` (which receives the image)"
      ]
    },
    {
      "cell_type": "code",
      "execution_count": null,
      "metadata": {
        "id": "tpVu037dkqGW"
      },
      "outputs": [],
      "source": [
        "class RandomHorizontalFlip(object):\n",
        "  def __init__(self, p=0.5):\n",
        "    # Place your code here (2 Points)\n",
        "    assert p <= 1\n",
        "    self.p = p\n",
        "  \n",
        "  def __call__(self, x):\n",
        "    # Place your code here (2.5 Points)\n",
        "    if torch.rand(1).item() > self.p:\n",
        "      return x\n",
        "\n",
        "    new_x = torch.zeros_like(x)\n",
        "    for i in range(x.shape[2]):\n",
        "      new_x[0][:, i] = x[0][:, x.shape[2]-i-1]\n",
        "    \n",
        "    return new_x"
      ]
    },
    {
      "cell_type": "markdown",
      "metadata": {
        "id": "p7kC6zOOmraA"
      },
      "source": [
        "#### Random Color Swap"
      ]
    },
    {
      "cell_type": "markdown",
      "metadata": {
        "id": "LcFPotJVmzha"
      },
      "source": [
        "Now that you have learned how to implement a transformation class, let's build another one. Define a transformation which swaps the colors (in the gray scale image) with probability of $p$. For example, if the given image had a white colored number with a black background, it should output an image with black colored number and a white background.\n",
        "\n",
        "**Hint:** for a given input $x$, you can concider the swapped color version of it as $x_{new} = m - x$ where $m$ is the maximum value in image $x$"
      ]
    },
    {
      "cell_type": "code",
      "execution_count": null,
      "metadata": {
        "id": "5_4W0QeDmxrZ"
      },
      "outputs": [],
      "source": [
        "# Place your code here (5 Points)\n",
        "class RandomColorSwap(object):\n",
        "  def __init__(self, p=0.5):\n",
        "    assert p <= 1\n",
        "    self.p = p\n",
        "  \n",
        "  def __call__(self, x):\n",
        "    if torch.rand(1).item() > self.p:\n",
        "      return x\n",
        "    \n",
        "    new_x = x.clone()\n",
        "    return x.max() - new_x"
      ]
    },
    {
      "cell_type": "markdown",
      "metadata": {
        "id": "6sO1GAmQn-D_"
      },
      "source": [
        "### Evaluation of transformations"
      ]
    },
    {
      "cell_type": "markdown",
      "metadata": {
        "id": "gU8dglTeoCSq"
      },
      "source": [
        "Now, let's apply these transformations on some images of our dataset. You can stack different transformation using `Compose`"
      ]
    },
    {
      "cell_type": "code",
      "execution_count": null,
      "metadata": {
        "id": "HhU0pqttoBC7"
      },
      "outputs": [],
      "source": [
        "trans = transforms.Compose([\n",
        "  RandomHorizontalFlip(p=0.7),\n",
        "  RandomColorSwap()\n",
        "])"
      ]
    },
    {
      "cell_type": "code",
      "execution_count": null,
      "metadata": {
        "colab": {
          "base_uri": "https://localhost:8080/",
          "height": 301
        },
        "id": "WjTBM5N8oMJQ",
        "outputId": "d6bcf268-b02a-4ef1-8d94-6044818a29c5"
      },
      "outputs": [
        {
          "data": {
            "image/png": "[encoded data removed]",
            "text/plain": [
              "<Figure size 1800x360 with 20 Axes>"
            ]
          },
          "metadata": {},
          "output_type": "display_data"
        }
      ],
      "source": [
        "num_imgs = 10\n",
        "fig, axs = plt.subplots(2, num_imgs, figsize=(25, 5))\n",
        "for i, idx in enumerate(torch.randint(0, len(mnist_dataset), [num_imgs])):\n",
        "  x, y = mnist_dataset[idx]\n",
        "  axs[0, i].imshow(x[0], cmap='gray')\n",
        "  axs[1, i].imshow(trans(x)[0], cmap='gray')\n",
        "  for k in range(2):\n",
        "    axs[k, i].set_yticks([])\n",
        "    axs[k, i].set_xticks([])\n",
        "\n",
        "axs[0, 0].set_ylabel(\"Original\")\n",
        "axs[1, 0].set_ylabel(\"Transformed\");"
      ]
    },
    {
      "cell_type": "markdown",
      "metadata": {
        "id": "nrl6OhN_osOd"
      },
      "source": [
        "What we expect to see is that, some of them are fliped horizontally, some swapped in color, and some both."
      ]
    },
    {
      "cell_type": "markdown",
      "metadata": {
        "id": "6f3K_sOxpG3V"
      },
      "source": [
        "## Dataset"
      ]
    },
    {
      "cell_type": "markdown",
      "metadata": {
        "id": "sYh7GBGPpQhU"
      },
      "source": [
        "In this section, we are going to implement a dataset class. Inside `torchvision.datasets` there are many Datasets that are already implemented and ready to use. But, in many situations it's necessary to implement one by your self."
      ]
    },
    {
      "cell_type": "markdown",
      "metadata": {
        "id": "JqQjsiGTrW8l"
      },
      "source": [
        "Run the below cell to initialize our dataset"
      ]
    },
    {
      "cell_type": "code",
      "execution_count": null,
      "metadata": {
        "colab": {
          "base_uri": "https://localhost:8080/"
        },
        "id": "FztDAwMxrLRx",
        "outputId": "570cfceb-fe55-4b21-8394-6f9843a5b8b3"
      },
      "outputs": [
        {
          "name": "stderr",
          "output_type": "stream",
          "text": [
            "100%|██████████| 5000/5000 [00:02<00:00, 2223.42it/s]\n"
          ]
        }
      ],
      "source": [
        "dataset_path = \"new_mnist\"\n",
        "init_mnist_subset_directories(mnist_dataset, dataset_path)"
      ]
    },
    {
      "cell_type": "markdown",
      "metadata": {
        "id": "7iYvcVlhrmmk"
      },
      "source": [
        "If you take a look at `new_mnist` directory which is created in the directory you are working in, you see that it contains 10 folders with names from `0` to `9` indicating the label of the images inside it. Inside each, some files with name `data_{number}.pth` exist. Each `.pth` file is an image.\n",
        "\n",
        "Now you have to implement a Dataset on top of these files.\n",
        "The methods that you should implement in a Dataset (as you can see in the code) is as described below:\n",
        "- `__init__`: In our example assume that it only accepts `root_dir` and `transform` as it's parameters (You should apply the transformations before outputing the data)\n",
        "- `__len__`: Should return the number of data in your dataset\n",
        "- `__getitem__`: which receives an index, should return the data at the given index (which is a tuple here, containing image and the corresponding label) "
      ]
    },
    {
      "cell_type": "code",
      "execution_count": null,
      "metadata": {
        "id": "RixD6z30qt1o"
      },
      "outputs": [],
      "source": [
        "class MNISTDataset(Dataset):\n",
        "  def __init__(self, root_dir, transform):\n",
        "    # Place your code here (4 Points)\n",
        "    ## Hint: Use os.listdir(some_path) to get the list of files\n",
        "    self.root_dir = root_dir\n",
        "    self.transform = transform\n",
        "    self.data = []\n",
        "    for label in range(10):\n",
        "      label_path = os.path.join(root_dir, str(label))\n",
        "      for file_name in os.listdir(label_path):\n",
        "        self.data.append((os.path.join(label_path, file_name), label))\n",
        "\n",
        "  def __len__(self):\n",
        "    # Place your code here (1 Points)\n",
        "    return len(self.data)\n",
        "\n",
        "  def __getitem__(self, idx):\n",
        "    # Place your code here (3 Points)\n",
        "    ## Return a tuple (image, label)\n",
        "    return self.transform(torch.load(self.data[idx][0])), self.data[idx][1]"
      ]
    },
    {
      "cell_type": "markdown",
      "metadata": {
        "id": "ObSdu-MwuYJK"
      },
      "source": [
        "After you defined your dataset, let's use it."
      ]
    },
    {
      "cell_type": "code",
      "execution_count": null,
      "metadata": {
        "colab": {
          "base_uri": "https://localhost:8080/"
        },
        "id": "YctASmSEuiqG",
        "outputId": "b3e046c9-6ecb-4d4e-b96e-15946755fca0"
      },
      "outputs": [
        {
          "data": {
            "text/plain": [
              "5000"
            ]
          },
          "execution_count": 30,
          "metadata": {},
          "output_type": "execute_result"
        }
      ],
      "source": [
        "my_dataset = MNISTDataset(root_dir=dataset_path, transform=RandomColorSwap())\n",
        "len(my_dataset)"
      ]
    },
    {
      "cell_type": "markdown",
      "metadata": {
        "id": "VMTt5b4wvWik"
      },
      "source": [
        "Visualize 10 samples (randomely) from your dataset with their labels"
      ]
    },
    {
      "cell_type": "code",
      "execution_count": null,
      "metadata": {
        "colab": {
          "base_uri": "https://localhost:8080/",
          "height": 169
        },
        "id": "nWMmwUvjudSr",
        "outputId": "3ed446bc-dea2-4120-ad3e-aad3faf602f0"
      },
      "outputs": [
        {
          "data": {
            "image/png": "[encoded data removed]",
            "text/plain": [
              "<Figure size 1800x360 with 10 Axes>"
            ]
          },
          "metadata": {},
          "output_type": "display_data"
        }
      ],
      "source": [
        "# Place your code here (2 Points)\n",
        "num_imgs = 10\n",
        "fig, axs = plt.subplots(1, num_imgs, figsize=(25, 5))\n",
        "for i, idx in enumerate(torch.randint(0, len(my_dataset), [num_imgs])):\n",
        "  x, y = my_dataset[idx]\n",
        "  axs[i].imshow(x[0], cmap='gray')\n",
        "  axs[i].set_title(y)\n",
        "  axs[i].set_yticks([])\n",
        "  axs[i].set_xticks([])"
      ]
    },
    {
      "cell_type": "markdown",
      "metadata": {
        "id": "qKWNRCGuwDpf"
      },
      "source": [
        "## MNIST Classification"
      ]
    },
    {
      "cell_type": "markdown",
      "metadata": {
        "id": "DQ8QfxCnzESu"
      },
      "source": [
        "### Model\n",
        "Define your model (Based on what you have learned in the workshop). I highly encourage you to try different models with different layers in order to achieve a better accuracy\n",
        "\n",
        "**Notice:** You cannot use convolution layers in your model "
      ]
    },
    {
      "cell_type": "code",
      "execution_count": null,
      "metadata": {
        "id": "2rpkLTDazDgl"
      },
      "outputs": [],
      "source": [
        "# Place your code here (5 points)\n",
        "class DigitRecognizer(nn.Module):\n",
        "  def __init__(self):\n",
        "    super(DigitRecognizer, self).__init__()\n",
        "    self.model = nn.Sequential(\n",
        "      nn.Linear(28*28, 16*16),\n",
        "      nn.BatchNorm1d(16*16),\n",
        "      nn.ReLU(),\n",
        "      nn.Dropout(p=0.5),\n",
        "      nn.Linear(16*16, 8*8),\n",
        "      nn.BatchNorm1d(8*8),\n",
        "      nn.ReLU(),\n",
        "      nn.Dropout(p=0.5),\n",
        "      nn.Linear(8*8, 10),\n",
        "    )\n",
        "  \n",
        "  def forward(self, x):\n",
        "    return self.model(x)"
      ]
    },
    {
      "cell_type": "code",
      "execution_count": null,
      "metadata": {
        "colab": {
          "base_uri": "https://localhost:8080/"
        },
        "id": "rVXXfXBvzwY3",
        "outputId": "d67a1594-c415-4877-a088-3d7dad5c4ab6"
      },
      "outputs": [
        {
          "data": {
            "text/plain": [
              "DigitRecognizer(\n",
              "  (model): Sequential(\n",
              "    (0): Linear(in_features=784, out_features=256, bias=True)\n",
              "    (1): BatchNorm1d(256, eps=1e-05, momentum=0.1, affine=True, track_running_stats=True)\n",
              "    (2): ReLU()\n",
              "    (3): Dropout(p=0.5, inplace=False)\n",
              "    (4): Linear(in_features=256, out_features=64, bias=True)\n",
              "    (5): BatchNorm1d(64, eps=1e-05, momentum=0.1, affine=True, track_running_stats=True)\n",
              "    (6): ReLU()\n",
              "    (7): Dropout(p=0.5, inplace=False)\n",
              "    (8): Linear(in_features=64, out_features=10, bias=True)\n",
              "  )\n",
              ")"
            ]
          },
          "execution_count": 33,
          "metadata": {},
          "output_type": "execute_result"
        }
      ],
      "source": [
        "model = DigitRecognizer().to(device)\n",
        "model"
      ]
    },
    {
      "cell_type": "markdown",
      "metadata": {
        "id": "29ekb8vBz06M"
      },
      "source": [
        "### Dataset and Dataloader"
      ]
    },
    {
      "cell_type": "markdown",
      "metadata": {
        "id": "UIJbRn7C0MXI"
      },
      "source": [
        "Prepare datasets and dataloader for train/test. We use MNIST dataset that is already implemented inside `torchvision.datasets`.\n",
        "\n",
        " You need to split the `mnist_dataset` into `train_dataset` and `val_dataset`. \n",
        " \n",
        " You can also define more transformations that you think it would help the training process **(Optional)**."
      ]
    },
    {
      "cell_type": "code",
      "execution_count": null,
      "metadata": {
        "id": "OGASwi3AzzZV"
      },
      "outputs": [],
      "source": [
        "transform_compose = transforms.Compose([\n",
        "  transforms.ToTensor(),\n",
        "  # Place your code here\n",
        "])\n",
        "\n",
        "mnist_dataset = datasets.MNIST(root='dataset', train=True, download=True, transform=transform_compose)\n",
        "# Place your code here (1 points)\n",
        "## Notice: Split mnist_dataset into train_dataset and val_dataset\n",
        "train_dataset, val_dataset = random_split(mnist_dataset, [50000, 10000])\n",
        "# End of block for your code placement\n",
        "test_dataset = datasets.MNIST(root='dataset', train=False, download=True, transform=transforms.ToTensor())\n",
        "\n",
        "train_loader = DataLoader(dataset=train_dataset, batch_size=32, shuffle=True)\n",
        "val_loader = DataLoader(dataset=val_dataset, batch_size=32, shuffle=False)\n",
        "test_loader = DataLoader(dataset=test_dataset, batch_size=32, shuffle=False)"
      ]
    },
    {
      "cell_type": "markdown",
      "metadata": {
        "id": "8_knAsJK1eoL"
      },
      "source": [
        "### Criterion and Optimizer"
      ]
    },
    {
      "cell_type": "markdown",
      "metadata": {
        "id": "hCwVvh7v1mPy"
      },
      "source": [
        "you have to tune the `learning_rate` yourself (Based on your training process)"
      ]
    },
    {
      "cell_type": "code",
      "execution_count": null,
      "metadata": {
        "id": "3AiRenXy1jJO"
      },
      "outputs": [],
      "source": [
        "criterion = nn.CrossEntropyLoss()\n",
        "# learning_rate=\n",
        "learning_rate=0.001\n",
        "optimizer = torch.optim.Adam(model.parameters(), lr=learning_rate)"
      ]
    },
    {
      "cell_type": "markdown",
      "metadata": {
        "id": "4c9K1Hlf12UF"
      },
      "source": [
        "### Train your model"
      ]
    },
    {
      "cell_type": "markdown",
      "metadata": {
        "id": "urJ44vOA2Exl"
      },
      "source": [
        "Write your training/validation loop in the following cell for an arbitrary number of epochs (until convergence is detected). You also need to store train/validation loss at each epoch in order to visualize them the after training is done."
      ]
    },
    {
      "cell_type": "code",
      "execution_count": null,
      "metadata": {
        "colab": {
          "base_uri": "https://localhost:8080/"
        },
        "id": "lyCVVo742PPQ",
        "outputId": "02ebe2bc-69f3-431f-d1da-53c1f3f982c1"
      },
      "outputs": [
        {
          "name": "stdout",
          "output_type": "stream",
          "text": [
            "[Epoch 0]\tTrain Loss: 0.5367\tValidation Loss: 0.1816\n",
            "[Epoch 1]\tTrain Loss: 0.3320\tValidation Loss: 0.1394\n",
            "[Epoch 2]\tTrain Loss: 0.2746\tValidation Loss: 0.1223\n",
            "[Epoch 3]\tTrain Loss: 0.2490\tValidation Loss: 0.1131\n",
            "[Epoch 4]\tTrain Loss: 0.2306\tValidation Loss: 0.1008\n",
            "[Epoch 5]\tTrain Loss: 0.2194\tValidation Loss: 0.1033\n",
            "[Epoch 6]\tTrain Loss: 0.2082\tValidation Loss: 0.0938\n",
            "[Epoch 7]\tTrain Loss: 0.1995\tValidation Loss: 0.0932\n",
            "[Epoch 8]\tTrain Loss: 0.1920\tValidation Loss: 0.0907\n",
            "[Epoch 9]\tTrain Loss: 0.1843\tValidation Loss: 0.0911\n",
            "[Epoch 10]\tTrain Loss: 0.1779\tValidation Loss: 0.0857\n",
            "[Epoch 11]\tTrain Loss: 0.1726\tValidation Loss: 0.0867\n",
            "[Epoch 12]\tTrain Loss: 0.1728\tValidation Loss: 0.0831\n",
            "[Epoch 13]\tTrain Loss: 0.1673\tValidation Loss: 0.0838\n",
            "[Epoch 14]\tTrain Loss: 0.1613\tValidation Loss: 0.0791\n",
            "[Epoch 15]\tTrain Loss: 0.1606\tValidation Loss: 0.0802\n",
            "[Epoch 16]\tTrain Loss: 0.1530\tValidation Loss: 0.0808\n",
            "[Epoch 17]\tTrain Loss: 0.1510\tValidation Loss: 0.0773\n",
            "[Epoch 18]\tTrain Loss: 0.1498\tValidation Loss: 0.0800\n",
            "[Epoch 19]\tTrain Loss: 0.1483\tValidation Loss: 0.0786\n",
            "[Epoch 20]\tTrain Loss: 0.1457\tValidation Loss: 0.0748\n",
            "[Epoch 21]\tTrain Loss: 0.1449\tValidation Loss: 0.0764\n",
            "[Epoch 22]\tTrain Loss: 0.1391\tValidation Loss: 0.0762\n",
            "[Epoch 23]\tTrain Loss: 0.1414\tValidation Loss: 0.0777\n",
            "[Epoch 24]\tTrain Loss: 0.1401\tValidation Loss: 0.0766\n",
            "[Epoch 25]\tTrain Loss: 0.1387\tValidation Loss: 0.0783\n",
            "[Epoch 26]\tTrain Loss: 0.1376\tValidation Loss: 0.0757\n",
            "[Epoch 27]\tTrain Loss: 0.1329\tValidation Loss: 0.0740\n",
            "[Epoch 28]\tTrain Loss: 0.1335\tValidation Loss: 0.0763\n",
            "[Epoch 29]\tTrain Loss: 0.1307\tValidation Loss: 0.0769\n",
            "[Epoch 30]\tTrain Loss: 0.1244\tValidation Loss: 0.0778\n",
            "[Epoch 31]\tTrain Loss: 0.1258\tValidation Loss: 0.0765\n",
            "[Epoch 32]\tTrain Loss: 0.1249\tValidation Loss: 0.0787\n",
            "[Epoch 33]\tTrain Loss: 0.1262\tValidation Loss: 0.0747\n",
            "[Epoch 34]\tTrain Loss: 0.1245\tValidation Loss: 0.0732\n",
            "[Epoch 35]\tTrain Loss: 0.1183\tValidation Loss: 0.0728\n",
            "[Epoch 36]\tTrain Loss: 0.1242\tValidation Loss: 0.0742\n",
            "[Epoch 37]\tTrain Loss: 0.1184\tValidation Loss: 0.0759\n",
            "[Epoch 38]\tTrain Loss: 0.1190\tValidation Loss: 0.0728\n",
            "[Epoch 39]\tTrain Loss: 0.1235\tValidation Loss: 0.0756\n"
          ]
        }
      ],
      "source": [
        "# num_epochs=\n",
        "num_epochs=40\n",
        "\n",
        "train_loss_arr, val_loss_arr = [], []\n",
        "for epoch in range(num_epochs):\n",
        "  train_loss, val_loss = 0, 0\n",
        "\n",
        "  model.train()\n",
        "  # Place your code here (5 points)\n",
        "  ## Hint: Loop throught train_loader, get images with their labels and train the model\n",
        "  ## Hint 2: To update train_loss inside the loop use \"train_loss += batch_loss * batch_size\"\"\n",
        "  for images, labels in train_loader:\n",
        "    images, labels = images.reshape(-1, 28*28).to(device), labels.to(device)\n",
        "    optimizer.zero_grad()\n",
        "    outputs = model(images)\n",
        "    loss = criterion(outputs, labels)\n",
        "    train_loss += loss.item() * images.size(0)\n",
        "    loss.backward()\n",
        "    optimizer.step()\n",
        "  \n",
        "  model.eval()\n",
        "  # Place your code here (4 points)\n",
        "  ## Hint: Loop throught val_loader, get images with their labels and evaluate the model\n",
        "  ## Hint 2: To update val_loss inside the loop use \"val_loss += batch_loss * batch_size\"\"\n",
        "  for images, labels in val_loader:\n",
        "    images, labels = images.reshape(-1, 28*28).to(device), labels.to(device)\n",
        "    outputs = model(images)\n",
        "    loss = criterion(outputs, labels)\n",
        "    val_loss += loss.item() * images.size(0)\n",
        "\n",
        "  train_loss /= len(train_loader.dataset)\n",
        "  val_loss /= len(val_loader.dataset)\n",
        "  train_loss_arr.append(train_loss)\n",
        "  val_loss_arr.append(val_loss)\n",
        "\n",
        "  print(f\"[Epoch {epoch}]\\t\"\n",
        "        f\"Train Loss: {train_loss:.4f}\\t\"\n",
        "        f\"Validation Loss: {val_loss:.4f}\")"
      ]
    },
    {
      "cell_type": "markdown",
      "metadata": {
        "id": "oe3KbjZG2mNd"
      },
      "source": [
        "#### Plot train/validation loss"
      ]
    },
    {
      "cell_type": "code",
      "execution_count": null,
      "metadata": {
        "colab": {
          "base_uri": "https://localhost:8080/",
          "height": 428
        },
        "id": "nNwH8WMy2qmr",
        "outputId": "577615dd-9ce0-472e-e845-6f617ee29ee1"
      },
      "outputs": [
        {
          "data": {
            "image/png": "[encoded data removed]",
            "text/plain": [
              "<Figure size 720x504 with 1 Axes>"
            ]
          },
          "metadata": {
            "needs_background": "light"
          },
          "output_type": "display_data"
        }
      ],
      "source": [
        "# Place your code here (1 points)\n",
        "plt.figure(figsize=(10, 7))\n",
        "plt.plot(train_loss_arr)\n",
        "plt.plot(val_loss_arr)\n",
        "plt.legend([\"Train Loss\", \"Validation Loss\"]);"
      ]
    },
    {
      "cell_type": "markdown",
      "metadata": {
        "id": "AKsD6NhU2w71"
      },
      "source": [
        "### Evaluation"
      ]
    },
    {
      "cell_type": "markdown",
      "metadata": {
        "id": "oZcXJuWX255T"
      },
      "source": [
        "Evaluate your model on test set. you have to report both loss and accuracy.\n",
        "\n",
        "In order to get the full score of this section, you need to achieve an accuracy above $95\\%$ and to get the extra points, your accuracy should be above $98\\%$ \n",
        "\n",
        "**Notice:** You should use test set only for evaluation of your model."
      ]
    },
    {
      "cell_type": "code",
      "execution_count": null,
      "metadata": {
        "colab": {
          "base_uri": "https://localhost:8080/"
        },
        "id": "bl4bsjhg2xMo",
        "outputId": "08cf82bd-b492-4dd7-9f57-50f9a8681a9e"
      },
      "outputs": [
        {
          "data": {
            "text/plain": [
              "(0.06710918479234679, 0.9815)"
            ]
          },
          "execution_count": 40,
          "metadata": {},
          "output_type": "execute_result"
        }
      ],
      "source": [
        "# Place your code here (4 points + 5 Extra)\n",
        "test_loss = 0\n",
        "test_acc = .0\n",
        "model.eval()\n",
        "for images, labels in test_loader:\n",
        "  images, labels = images.reshape(-1, 28*28).to(device), labels.to(device)\n",
        "\n",
        "  outputs = model(images)\n",
        "  loss = criterion(outputs, labels)\n",
        "  test_loss += loss.item() * images.size(0)\n",
        "\n",
        "  test_acc += (outputs.max(axis=1)[1] == labels).sum().item()\n",
        "\n",
        "test_loss /= len(test_loader.dataset)\n",
        "test_acc /= len(test_loader.dataset)\n",
        "\n",
        "test_loss, test_acc"
      ]
    },
    {
      "cell_type": "markdown",
      "metadata": {
        "id": "w4eZsFnV3rTi"
      },
      "source": [
        "### Visualization of wrong prediction"
      ]
    },
    {
      "cell_type": "markdown",
      "metadata": {
        "id": "y9jvB_lZ3uqx"
      },
      "source": [
        "Visualize $8$ samples (along with original label and model's prediction) from test set which are labeled wrong by your model"
      ]
    },
    {
      "cell_type": "code",
      "execution_count": null,
      "metadata": {
        "colab": {
          "base_uri": "https://localhost:8080/",
          "height": 169
        },
        "id": "8rLlhJvE4IjZ",
        "outputId": "160aa213-6e10-428c-b045-cdf6be7632fc"
      },
      "outputs": [
        {
          "data": {
            "image/png": "[encoded data removed]",
            "text/plain": [
              "<Figure size 1440x360 with 8 Axes>"
            ]
          },
          "metadata": {},
          "output_type": "display_data"
        }
      ],
      "source": [
        "# Place your code here (5 points)\n",
        "num_wrong_pred_to_show = 8\n",
        "\n",
        "wrong_labeled_imgs = []\n",
        "model.eval()\n",
        "for images, labels in test_loader:\n",
        "  if len(wrong_labeled_imgs) >= num_wrong_pred_to_show:\n",
        "    break\n",
        "  images, labels = images.reshape(-1, 28*28).to(device), labels.to(device)\n",
        "  outputs = model(images).max(axis=1)[1]\n",
        "  wrong_label_mask = (outputs != labels)\n",
        "  for idx in torch.where(wrong_label_mask)[0]:\n",
        "    wrong_labeled_imgs.append([\n",
        "        images[idx].view(28, 28).cpu(),\n",
        "        labels[idx].cpu(),\n",
        "        outputs[idx],\n",
        "    ])\n",
        "  \n",
        "fig, axs = plt.subplots(1, num_wrong_pred_to_show, figsize=(20, 5))\n",
        "for i in range(num_wrong_pred_to_show):\n",
        "  img, label, pred = wrong_labeled_imgs[i]\n",
        "  axs[i].imshow(img, cmap='gray')\n",
        "  axs[i].set_title(f\"Label: {label} -> Pred: {pred}\")\n",
        "  axs[i].set_yticks([])\n",
        "  axs[i].set_xticks([])"
      ]
    }
  ],
  "metadata": {
    "colab": {
      "collapsed_sections": [],
      "name": "AI2021-P4-Solution.ipynb",
      "provenance": []
    },
    "interpreter": {
      "hash": "f336af7d54ba0f0c1daaf2256eb85f31e983e88153daf7a27ef3ea6c724faba4"
    },
    "kernelspec": {
      "display_name": "Python 3",
      "language": "python",
      "name": "python3"
    },
    "language_info": {
      "codemirror_mode": {
        "name": "ipython",
        "version": 3
      },
      "file_extension": ".py",
      "mimetype": "text/x-python",
      "name": "python",
      "nbconvert_exporter": "python",
      "pygments_lexer": "ipython3",
      "version": "3.7.4"
    }
  },
  "nbformat": 4,
  "nbformat_minor": 0
}
